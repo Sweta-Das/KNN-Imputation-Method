{
  "nbformat": 4,
  "nbformat_minor": 0,
  "metadata": {
    "colab": {
      "provenance": [],
      "authorship_tag": "ABX9TyOgp6nF/sPkZLeqyI+nncWm",
      "include_colab_link": true
    },
    "kernelspec": {
      "name": "python3",
      "display_name": "Python 3"
    },
    "language_info": {
      "name": "python"
    }
  },
  "cells": [
    {
      "cell_type": "markdown",
      "metadata": {
        "id": "view-in-github",
        "colab_type": "text"
      },
      "source": [
        "<a href=\"https://colab.research.google.com/github/Sweta-Das/KNN-Imputation-Method/blob/main/KNN_Imputation.ipynb\" target=\"_parent\"><img src=\"https://colab.research.google.com/assets/colab-badge.svg\" alt=\"Open In Colab\"/></a>"
      ]
    },
    {
      "cell_type": "markdown",
      "source": [
        "### KNN Imputation using KNNImputer from Scikit Learn"
      ],
      "metadata": {
        "id": "15zg8CA_lg3A"
      }
    },
    {
      "cell_type": "code",
      "execution_count": 1,
      "metadata": {
        "id": "D2qm7BGNlYRG"
      },
      "outputs": [],
      "source": [
        "# importing libraries\n",
        "import numpy as np\n",
        "import pandas as pd\n",
        "\n",
        "# importing KNN Imputer Class from scikit learn\n",
        "from sklearn.impute import KNNImputer"
      ]
    },
    {
      "cell_type": "code",
      "source": [
        "# creating dataset for marks of a student\n",
        "dict = {'DBMS': [75, 68, np.nan, 93], 'DSA': [60, 59, 57, np.nan], 'TOC': [np.nan, 67, 80, 56], 'OS': [78,80,66, np.nan]}"
      ],
      "metadata": {
        "id": "xTZEW10mmBqV"
      },
      "execution_count": 2,
      "outputs": []
    },
    {
      "cell_type": "code",
      "source": [
        "# creating a data frame from the list\n",
        "bef_imp = pd.DataFrame(dict)\n",
        "\n",
        "# printing dataset before imputation\n",
        "print(bef_imp)"
      ],
      "metadata": {
        "colab": {
          "base_uri": "https://localhost:8080/"
        },
        "id": "q65tmMHQmmsm",
        "outputId": "6d6677bf-0367-49c0-f915-bb69d61198a6"
      },
      "execution_count": 3,
      "outputs": [
        {
          "output_type": "stream",
          "name": "stdout",
          "text": [
            "   DBMS   DSA   TOC    OS\n",
            "0  75.0  60.0   NaN  78.0\n",
            "1  68.0  59.0  67.0  80.0\n",
            "2   NaN  57.0  80.0  66.0\n",
            "3  93.0   NaN  56.0   NaN\n"
          ]
        }
      ]
    },
    {
      "cell_type": "code",
      "source": [
        "# creating an object for KNNImputer\n",
        "imputer = KNNImputer(n_neighbors = 3) # k = 3\n",
        "aft_imp = imputer.fit_transform(bef_imp)\n",
        "print(aft_imp)"
      ],
      "metadata": {
        "colab": {
          "base_uri": "https://localhost:8080/"
        },
        "id": "sz-IycFem-5t",
        "outputId": "55ec6ea8-e1a1-4364-c67b-9daec7e65999"
      },
      "execution_count": 5,
      "outputs": [
        {
          "output_type": "stream",
          "name": "stdout",
          "text": [
            "[[75.         60.         67.66666667 78.        ]\n",
            " [68.         59.         67.         80.        ]\n",
            " [78.66666667 57.         80.         66.        ]\n",
            " [93.         58.66666667 56.         74.66666667]]\n"
          ]
        }
      ]
    },
    {
      "cell_type": "markdown",
      "source": [
        "Note: After imputation, the data becomes a numpy array."
      ],
      "metadata": {
        "id": "MQhaHDK4nt3N"
      }
    },
    {
      "cell_type": "markdown",
      "source": [],
      "metadata": {
        "id": "F34hXw13n3iC"
      }
    }
  ]
}